{
 "cells": [
  {
   "cell_type": "code",
   "execution_count": 7,
   "id": "d9df5149",
   "metadata": {},
   "outputs": [],
   "source": [
    "import streamlit as st\n",
    "import datetime\n",
    "import requests"
   ]
  },
  {
   "cell_type": "code",
   "execution_count": 26,
   "id": "b656a395",
   "metadata": {},
   "outputs": [],
   "source": [
    "'''## Please select the parameters of your ride'''\n",
    "# Ask for date and time\n",
    "pickup_date = st.date_input(\n",
    "    'Please select a pickup date',\n",
    "    datetime.date(2020, 8, 27)\n",
    ")\n",
    "st.write('You selected: ', pickup_date)\n",
    "\n",
    "pickup_time = st.time_input('Select pickup time', datetime.time(8, 45))\n",
    "st.write('You selected following time: ', pickup_time)\n",
    "\n",
    "# Ask for pickup longitude\n",
    "pickup_longitude = st.number_input('Pickup longitude', 52.341261663803955)\n",
    "st.write('Your pickup longitude is: ', pickup_longitude)\n",
    "\n",
    "# Ask for pickup latitude\n",
    "pickup_latitude = st.number_input('Pickup latitude', 4.854343157542917)\n",
    "st.write('Your pickup latitude is: ', pickup_latitude)\n",
    "\n",
    "# Ask for dropoff longitude\n",
    "dropoff_longitude = st.number_input('Dropoff longitude', 52.341261663803955)\n",
    "st.write('Your dropoff longitude is: ', dropoff_longitude)\n",
    "\n",
    "# Ask for pickup latitude\n",
    "dropoff_latitude = st.number_input('Dropoff latitude', 4.854343157542917)\n",
    "st.write('Your dropoff latitude is: ', dropoff_latitude)\n",
    "\n",
    "# Ask for passenger count\n",
    "passenger_count = st.number_input('Passenger count', 2)\n",
    "st.write('Your passenger count is: ', passenger_count)"
   ]
  },
  {
   "cell_type": "code",
   "execution_count": 37,
   "id": "3b2ce25d",
   "metadata": {
    "scrolled": true
   },
   "outputs": [
    {
     "data": {
      "text/plain": [
       "'2020-08-27'"
      ]
     },
     "execution_count": 37,
     "metadata": {},
     "output_type": "execute_result"
    }
   ],
   "source": [
    "f\"{pickup_date}\""
   ]
  },
  {
   "cell_type": "code",
   "execution_count": 38,
   "id": "60ff0f4c",
   "metadata": {},
   "outputs": [
    {
     "data": {
      "text/plain": [
       "'08:45:00'"
      ]
     },
     "execution_count": 38,
     "metadata": {},
     "output_type": "execute_result"
    }
   ],
   "source": [
    "f\"{pickup_time}\""
   ]
  },
  {
   "cell_type": "code",
   "execution_count": 39,
   "id": "9fd9901b",
   "metadata": {},
   "outputs": [
    {
     "data": {
      "text/plain": [
       "'2020-08-27 08:45:00'"
      ]
     },
     "execution_count": 39,
     "metadata": {},
     "output_type": "execute_result"
    }
   ],
   "source": [
    "pickup_datetime = f\"{pickup_date} {t}\"\n",
    "pickup_datetime"
   ]
  },
  {
   "cell_type": "code",
   "execution_count": 40,
   "id": "933d1321",
   "metadata": {},
   "outputs": [
    {
     "data": {
      "text/plain": [
       "{'key': ['2013-07-06 17:18:00.000000119'],\n",
       " 'pickup_datetime': ['2020-08-27 08:45:00'],\n",
       " 'pickup_longitude': [52.341261663803955],\n",
       " 'pickup_latitude': [4.854343157542917],\n",
       " 'dropoff_longitude': [52.341261663803955],\n",
       " 'dropoff_latitude': [4.854343157542917],\n",
       " 'passenger_count': [2]}"
      ]
     },
     "execution_count": 40,
     "metadata": {},
     "output_type": "execute_result"
    }
   ],
   "source": [
    "'''\n",
    "\n",
    "## Once we have these, let's call our API in order to retrieve a prediction\n",
    "\n",
    "See ? No need to load a `model.joblib` file in this app, we do not even need to know anything about Data Science in order to retrieve a prediction...\n",
    "\n",
    "🤔 How could we call our API ? Off course... The `requests` package 💡\n",
    "'''\n",
    "\n",
    "\n",
    "url = 'https://modelnew-iehtyxk3za-ew.a.run.app/predict'\n",
    "\n",
    "if url == 'https://taxifare.lewagon.ai/predict':\n",
    "\n",
    "    st.markdown(\n",
    "        'Maybe you want to use your own API for the prediction, not the one provided by Le Wagon...'\n",
    "    )\n",
    "'''\n",
    "\n",
    "2. Let's build a dictionary containing the parameters for our API...\n",
    "\n",
    "3. Let's call our API using the `requests` package...\n",
    "\n",
    "4. Let's retrieve the prediction from the **JSON** returned by the API...\n",
    "\n",
    "## Finally, we can display the prediction to the user\n",
    "'''\n",
    "key = \"2013-07-06 17:18:00.000000119\"\n",
    "\n",
    "params = {\n",
    "    'key': [key],\n",
    "    'pickup_datetime': [pickup_datetime],\n",
    "    'pickup_longitude': [float(pickup_longitude)],\n",
    "    'pickup_latitude': [float(pickup_latitude)],\n",
    "    'dropoff_longitude': [float(dropoff_longitude)],\n",
    "    'dropoff_latitude': [float(dropoff_latitude)],\n",
    "    'passenger_count': [int(passenger_count)]\n",
    "}\n",
    "params"
   ]
  },
  {
   "cell_type": "code",
   "execution_count": 41,
   "id": "a06b5bef",
   "metadata": {},
   "outputs": [],
   "source": [
    "# 2012-10-06_12:10:20&pickup_longitude=52.341261663803955&pickup_latitude=4.854343157542917&dropoff_longitude=52.341261663803955&dropoff_latitude=4.854343157542917&passenger_count=2"
   ]
  },
  {
   "cell_type": "code",
   "execution_count": 42,
   "id": "cbd406d3",
   "metadata": {},
   "outputs": [
    {
     "data": {
      "text/plain": [
       "<Response [200]>"
      ]
     },
     "execution_count": 42,
     "metadata": {},
     "output_type": "execute_result"
    }
   ],
   "source": [
    "request = requests.get(url, params=params)\n",
    "request"
   ]
  },
  {
   "cell_type": "code",
   "execution_count": 43,
   "id": "b35799f8",
   "metadata": {},
   "outputs": [
    {
     "data": {
      "text/plain": [
       "{'prediction': 8.450444035672902}"
      ]
     },
     "execution_count": 43,
     "metadata": {},
     "output_type": "execute_result"
    }
   ],
   "source": [
    "request.json()"
   ]
  },
  {
   "cell_type": "code",
   "execution_count": 44,
   "id": "da79d27e",
   "metadata": {},
   "outputs": [
    {
     "data": {
      "text/plain": [
       "{'prediction': 8.450444035672902}"
      ]
     },
     "execution_count": 44,
     "metadata": {},
     "output_type": "execute_result"
    }
   ],
   "source": [
    "request.json()"
   ]
  },
  {
   "cell_type": "code",
   "execution_count": null,
   "id": "94f7c083",
   "metadata": {},
   "outputs": [],
   "source": []
  }
 ],
 "metadata": {
  "kernelspec": {
   "display_name": "Python 3 (ipykernel)",
   "language": "python",
   "name": "python3"
  },
  "language_info": {
   "codemirror_mode": {
    "name": "ipython",
    "version": 3
   },
   "file_extension": ".py",
   "mimetype": "text/x-python",
   "name": "python",
   "nbconvert_exporter": "python",
   "pygments_lexer": "ipython3",
   "version": "3.8.6"
  },
  "toc": {
   "base_numbering": 1,
   "nav_menu": {},
   "number_sections": true,
   "sideBar": true,
   "skip_h1_title": false,
   "title_cell": "Table of Contents",
   "title_sidebar": "Contents",
   "toc_cell": false,
   "toc_position": {},
   "toc_section_display": true,
   "toc_window_display": false
  }
 },
 "nbformat": 4,
 "nbformat_minor": 5
}
